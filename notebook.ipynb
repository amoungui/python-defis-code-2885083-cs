{
  "cells": [
    {
      "cell_type": "markdown",
      "metadata": {
        "id": "MbZyA61s9QD4"
      },
      "source": [
        "# Réfléchir et résoudre : \"Growth and Learning\""
      ]
    },
    {
      "cell_type": "markdown",
      "metadata": {
        "id": "ZO0ACtV76HK1"
      },
      "source": [
        "## 1) Partir en croisade"
      ]
    },
    {
      "cell_type": "markdown",
      "metadata": {
        "id": "Jm9lOLE1_-jw"
      },
      "source": [
        "## 2) Se dissiper avec le brouillard anglais"
      ]
    },
    {
      "cell_type": "markdown",
      "metadata": {
        "id": "EB2Vpdz-mLUo"
      },
      "source": [
        "### Défi"
      ]
    },
    {
      "cell_type": "code",
      "execution_count": null,
      "metadata": {
        "id": "yvoO6Wxrc9NT"
      },
      "outputs": [],
      "source": [
        "from collections import Counter\n",
        "\n",
        "enigme = (\n",
        "    \"HSMKEWNPRHNPJNBKQTKUQCEWKDIQPTKQJJDMQXKDSLMQCSEWKTEWNPRHFLHEMQXKDSLHZKQTQPCI\"\n",
        "    \"LTHKZWKPDSLTKIWKZNPRSPJNBKHRTNHEJKCSPERTLMUJKRNAKQZWNHEJKQPCEWNHJJWKJOEWNPRH\"\n",
        "    \"ELTPSLEBSTEWKUKHEQPCQJZQDHJSSXSPEWKUTNRWEHNCKSBJNBKQJZQDHJSSXSPEWKJNRWEHNCKS\"\n",
        "    \"BJNBKNBJNBKHKKMHFSJJDTSEEKPEWKTKHHSMKEWNPRDSLAKBSTRSEEKPQPCEWQEHESJQLRWQPCHM\"\n",
        "    \"NJKQPCCQPIKQPCHNPRZWKPDSLTKBKKJNPRNPEWKCLMOHCSPEUKHNJJDIWLMOHFLHEOLTHKDSLTJN\"\n",
        "    \"OHQPCZWNHEJKEWQEHEWKEWNPRQPCQJZQDHJSSXSPEWKUTNRWEHNCKSBJNBKISMKSPQJZQDHJSSXS\"\n",
        "    \"PEWKTNRWEHNCKSBJNBKBSTJNBKNHVLNEKQUHLTCQPCCKQEWHEWKBNPQJZSTCDSLMLHEQJZQDHBQI\"\n",
        "    \"KEWKILTEQNPZNEWQUSZBSTRKEQUSLEDSLTHNPRNAKEWKQLCNKPIKQRTNPKPFSDNENEHDSLTJQHEI\"\n",
        "    \"WQPIKQPDWSZHSQJZQDHJSSXSPEWKUTNRWEHNCKSBCKQEWQFLHEUKBSTKDSLCTQZDSLTEKTMNPQJU\"\n",
        "    \"TKQEWJNBKHQONKIKSBHWNEZWKPDSLJSSXQENEJNBKHQJQLRWQPCCKQEWHQFSXKNEHETLKDSLJJHK\"\n",
        "    \"KNEHQJJQHWSZXKKOKMJQLRWNPQHDSLRSFLHETKMKMUKTEWQEEWKJQHEJQLRWNHSPDSLQPCQJZQDH\"\n",
        "    \"JSSXSPEWKUTNRWEHNCKSBJNBKQJZQDHJSSXSPEWKTNRWEHNCKSBJNBKIMSPUTNQPIWKKTLOQJZQD\"\n",
        "    \"HJSSXSPEWKUTNRWEHNCKSBJNBKQJZQDHJSSXSPEWKUTNRWEHNCKSBJNBKQJZQDHJSSXSPEWKUTNR\"\n",
        "    \"WEHNCKSBJNBKNMKQPZWQEWQAKDSLRSEESJSHKDSLXPSZDSLISMKBTSMPSEWNPRDSLTKRSNPRUQIX\"\n",
        "    \"ESPSEWNPRZWQEWQAKDSLJSHEPSEWNPRQJZQDHJSSXSPEWKTNRWEHNCKSBJNBKPSEWNPRZNJJISMK\"\n",
        "    \"BTSMPSEWNPRDQXPSZZWQEEWKDHQDIWKKTLODQSJCULRRQIMSPRNAKLHQRTNPQJZQDHJSSXSPEWKT\"\n",
        "    \"NRWEHNCKSBJNBKEWKTKDQQTKHKKNEHEWKKPCSBEWKBNJMNPINCKPEQJJDEWNHTKISTCHQAQNJQUJ\"\n",
        "    \"KNPEWKBSDKTQJZQDHJSSXSPEWKTNRWEHNCKSBJNBKHSMKSBLHRSEESJNAKQHZKJJDSLXPSZQJZQD\"\n",
        "    \"HJSSXSPEWKTNRWEHNCKSBJNBKZWSCSDSLEWNPXOQDHBSTQJJEWNHTLUUNHWQJZQDHJSSXSPEWKTN\"\n",
        "    \"RWEHNCKSBJNBKEWKDTKPSERSPPQMQXKEWKNTMSPKDUQIXDSLXPSZNESJCEWKMNHQNCESWNMUKTPN\"\n",
        "    \"KNHQNCEWKDJJPKAKTMQXKEWKNTMSPKDUQIX\"\n",
        ")\n",
        "frequence = \"EOTIALHSNRYFUGDWMKBCPVJQXZ\"\n",
        "\n",
        "\n",
        "def occurence(chain: str):\n",
        "  occurences = Counter([i for i in chain])\n",
        "  return dict(sorted(occurences.items(), key=lambda item: item[1], reverse=True))\n",
        "\n",
        "\n",
        "occurences = ''.join(list(occurence(enigme).keys()))\n",
        "\n",
        "relationship = dict(zip(occurences, frequence))\n",
        "print(''.join([relationship[lettre] for lettre in enigme]))\n"
      ]
    },
    {
      "cell_type": "markdown",
      "metadata": {
        "id": "22q1RQeJAAP4"
      },
      "source": [
        "## 3) Affiner sa recherche et son fromage"
      ]
    },
    {
      "cell_type": "markdown",
      "metadata": {
        "id": "01B_HwaAACiA"
      },
      "source": [
        "## 4) Imiter le perroquet"
      ]
    },
    {
      "cell_type": "markdown",
      "metadata": {
        "id": "U1wq0qXQ6LLj"
      },
      "source": [
        "# Combattre la routine : \"Fighting Each Other\""
      ]
    },
    {
      "cell_type": "markdown",
      "metadata": {
        "id": "EYHOS1yv6eyT"
      },
      "source": [
        "## 1) Nettoyer le \"for k\""
      ]
    },
    {
      "cell_type": "markdown",
      "metadata": {
        "id": "_FwKM6Df6hPy"
      },
      "source": [
        "## 2) Varier ses variables"
      ]
    },
    {
      "cell_type": "markdown",
      "metadata": {
        "id": "6xwMHZY-6smL"
      },
      "source": [
        "## 3) Adopter une drôle de démarche"
      ]
    },
    {
      "cell_type": "markdown",
      "metadata": {
        "id": "Z4DaiAa46w8L"
      },
      "source": [
        "# Intégrer l'existant : \"Live Organ Transplants\""
      ]
    },
    {
      "cell_type": "markdown",
      "metadata": {},
      "source": [
        "## 1) Réparer la machine qui fait \\\"Bing\\\""
      ]
    },
    {
      "cell_type": "markdown",
      "metadata": {
        "id": "NajPU3UNqjyn"
      },
      "source": [
        "## 2) Soigner ses arguments"
      ]
    },
    {
      "cell_type": "markdown",
      "metadata": {
        "id": "MLND-5kFqqjI"
      },
      "source": [
        "## 3) Cerner la souris et son problème"
      ]
    },
    {
      "cell_type": "markdown",
      "metadata": {
        "id": "ZXpDQr_g7JT7"
      },
      "source": [
        "# Éprouver votre endurance : \"The Autumn Years\""
      ]
    },
    {
      "cell_type": "markdown",
      "metadata": {
        "id": "VKJUGrd3BGv_"
      },
      "source": [
        "## 1) Dépouiller les votes"
      ]
    },
    {
      "cell_type": "markdown",
      "metadata": {
        "id": "SA0rIZ70Hvoe"
      },
      "source": [
        "## 2) Prendre le dessus"
      ]
    },
    {
      "cell_type": "markdown",
      "metadata": {},
      "source": [
        "## 3) Appréhender le pire défi Python"
      ]
    }
  ],
  "metadata": {
    "colab": {
      "collapsed_sections": [
        "-Vatf6FjoOI1",
        "M-dCDr0twu_p",
        "XWzopJmxKbu0",
        "J1DBepVJvbzQ",
        "MLND-5kFqqjI"
      ],
      "name": "Défis de code Python.ipynb",
      "provenance": []
    },
    "kernelspec": {
      "display_name": "Python 3.10.4 64-bit",
      "language": "python",
      "name": "python3"
    },
    "language_info": {
      "name": "python",
      "version": "3.10.4"
    },
    "vscode": {
      "interpreter": {
        "hash": "4f946df053fbf2b937619d3c5458e7af74262f9a954d8797ba0b27400bcafe06"
      }
    }
  },
  "nbformat": 4,
  "nbformat_minor": 0
}
